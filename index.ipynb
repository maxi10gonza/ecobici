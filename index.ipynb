{
 "cells": [
  {
   "cell_type": "code",
   "execution_count": 2,
   "id": "690fd3a7",
   "metadata": {},
   "outputs": [
    {
     "name": "stdout",
     "output_type": "stream",
     "text": [
      "Requirement already satisfied: pandas in c:\\users\\ipf-2025\\appdata\\local\\programs\\python\\python312\\lib\\site-packages (2.2.3)\n",
      "Requirement already satisfied: matplotlib in c:\\users\\ipf-2025\\appdata\\local\\programs\\python\\python312\\lib\\site-packages (3.10.1)\n",
      "Requirement already satisfied: streamlit in c:\\users\\ipf-2025\\appdata\\local\\programs\\python\\python312\\lib\\site-packages (1.44.1)\n",
      "Requirement already satisfied: numpy>=1.26.0 in c:\\users\\ipf-2025\\appdata\\local\\programs\\python\\python312\\lib\\site-packages (from pandas) (2.2.4)\n",
      "Requirement already satisfied: python-dateutil>=2.8.2 in c:\\users\\ipf-2025\\appdata\\roaming\\python\\python312\\site-packages (from pandas) (2.9.0.post0)\n",
      "Requirement already satisfied: pytz>=2020.1 in c:\\users\\ipf-2025\\appdata\\local\\programs\\python\\python312\\lib\\site-packages (from pandas) (2025.2)\n",
      "Requirement already satisfied: tzdata>=2022.7 in c:\\users\\ipf-2025\\appdata\\local\\programs\\python\\python312\\lib\\site-packages (from pandas) (2025.2)\n",
      "Requirement already satisfied: contourpy>=1.0.1 in c:\\users\\ipf-2025\\appdata\\local\\programs\\python\\python312\\lib\\site-packages (from matplotlib) (1.3.1)\n",
      "Requirement already satisfied: cycler>=0.10 in c:\\users\\ipf-2025\\appdata\\local\\programs\\python\\python312\\lib\\site-packages (from matplotlib) (0.12.1)\n",
      "Requirement already satisfied: fonttools>=4.22.0 in c:\\users\\ipf-2025\\appdata\\local\\programs\\python\\python312\\lib\\site-packages (from matplotlib) (4.57.0)\n",
      "Requirement already satisfied: kiwisolver>=1.3.1 in c:\\users\\ipf-2025\\appdata\\local\\programs\\python\\python312\\lib\\site-packages (from matplotlib) (1.4.8)\n",
      "Requirement already satisfied: packaging>=20.0 in c:\\users\\ipf-2025\\appdata\\roaming\\python\\python312\\site-packages (from matplotlib) (24.2)\n",
      "Requirement already satisfied: pillow>=8 in c:\\users\\ipf-2025\\appdata\\local\\programs\\python\\python312\\lib\\site-packages (from matplotlib) (11.1.0)\n",
      "Requirement already satisfied: pyparsing>=2.3.1 in c:\\users\\ipf-2025\\appdata\\local\\programs\\python\\python312\\lib\\site-packages (from matplotlib) (3.2.3)\n",
      "Requirement already satisfied: altair<6,>=4.0 in c:\\users\\ipf-2025\\appdata\\local\\programs\\python\\python312\\lib\\site-packages (from streamlit) (5.5.0)\n",
      "Requirement already satisfied: blinker<2,>=1.0.0 in c:\\users\\ipf-2025\\appdata\\local\\programs\\python\\python312\\lib\\site-packages (from streamlit) (1.9.0)\n",
      "Requirement already satisfied: cachetools<6,>=4.0 in c:\\users\\ipf-2025\\appdata\\local\\programs\\python\\python312\\lib\\site-packages (from streamlit) (5.5.2)\n",
      "Requirement already satisfied: click<9,>=7.0 in c:\\users\\ipf-2025\\appdata\\local\\programs\\python\\python312\\lib\\site-packages (from streamlit) (8.1.8)\n",
      "Requirement already satisfied: protobuf<6,>=3.20 in c:\\users\\ipf-2025\\appdata\\local\\programs\\python\\python312\\lib\\site-packages (from streamlit) (5.29.4)\n",
      "Requirement already satisfied: pyarrow>=7.0 in c:\\users\\ipf-2025\\appdata\\local\\programs\\python\\python312\\lib\\site-packages (from streamlit) (19.0.1)\n",
      "Requirement already satisfied: requests<3,>=2.27 in c:\\users\\ipf-2025\\appdata\\local\\programs\\python\\python312\\lib\\site-packages (from streamlit) (2.32.3)\n",
      "Requirement already satisfied: tenacity<10,>=8.1.0 in c:\\users\\ipf-2025\\appdata\\local\\programs\\python\\python312\\lib\\site-packages (from streamlit) (9.1.2)\n",
      "Requirement already satisfied: toml<2,>=0.10.1 in c:\\users\\ipf-2025\\appdata\\local\\programs\\python\\python312\\lib\\site-packages (from streamlit) (0.10.2)\n",
      "Requirement already satisfied: typing-extensions<5,>=4.4.0 in c:\\users\\ipf-2025\\appdata\\local\\programs\\python\\python312\\lib\\site-packages (from streamlit) (4.13.0)\n",
      "Requirement already satisfied: watchdog<7,>=2.1.5 in c:\\users\\ipf-2025\\appdata\\local\\programs\\python\\python312\\lib\\site-packages (from streamlit) (6.0.0)\n",
      "Requirement already satisfied: gitpython!=3.1.19,<4,>=3.0.7 in c:\\users\\ipf-2025\\appdata\\local\\programs\\python\\python312\\lib\\site-packages (from streamlit) (3.1.44)\n",
      "Requirement already satisfied: pydeck<1,>=0.8.0b4 in c:\\users\\ipf-2025\\appdata\\local\\programs\\python\\python312\\lib\\site-packages (from streamlit) (0.9.1)\n",
      "Requirement already satisfied: tornado<7,>=6.0.3 in c:\\users\\ipf-2025\\appdata\\roaming\\python\\python312\\site-packages (from streamlit) (6.4.2)\n",
      "Requirement already satisfied: jinja2 in c:\\users\\ipf-2025\\appdata\\local\\programs\\python\\python312\\lib\\site-packages (from altair<6,>=4.0->streamlit) (3.1.6)\n",
      "Requirement already satisfied: jsonschema>=3.0 in c:\\users\\ipf-2025\\appdata\\local\\programs\\python\\python312\\lib\\site-packages (from altair<6,>=4.0->streamlit) (4.23.0)\n",
      "Requirement already satisfied: narwhals>=1.14.2 in c:\\users\\ipf-2025\\appdata\\local\\programs\\python\\python312\\lib\\site-packages (from altair<6,>=4.0->streamlit) (1.35.0)\n",
      "Requirement already satisfied: colorama in c:\\users\\ipf-2025\\appdata\\roaming\\python\\python312\\site-packages (from click<9,>=7.0->streamlit) (0.4.6)\n",
      "Requirement already satisfied: gitdb<5,>=4.0.1 in c:\\users\\ipf-2025\\appdata\\local\\programs\\python\\python312\\lib\\site-packages (from gitpython!=3.1.19,<4,>=3.0.7->streamlit) (4.0.12)\n",
      "Requirement already satisfied: six>=1.5 in c:\\users\\ipf-2025\\appdata\\roaming\\python\\python312\\site-packages (from python-dateutil>=2.8.2->pandas) (1.17.0)\n",
      "Requirement already satisfied: charset-normalizer<4,>=2 in c:\\users\\ipf-2025\\appdata\\local\\programs\\python\\python312\\lib\\site-packages (from requests<3,>=2.27->streamlit) (3.4.1)\n",
      "Requirement already satisfied: idna<4,>=2.5 in c:\\users\\ipf-2025\\appdata\\local\\programs\\python\\python312\\lib\\site-packages (from requests<3,>=2.27->streamlit) (3.10)\n",
      "Requirement already satisfied: urllib3<3,>=1.21.1 in c:\\users\\ipf-2025\\appdata\\local\\programs\\python\\python312\\lib\\site-packages (from requests<3,>=2.27->streamlit) (2.3.0)\n",
      "Requirement already satisfied: certifi>=2017.4.17 in c:\\users\\ipf-2025\\appdata\\local\\programs\\python\\python312\\lib\\site-packages (from requests<3,>=2.27->streamlit) (2025.1.31)\n",
      "Requirement already satisfied: smmap<6,>=3.0.1 in c:\\users\\ipf-2025\\appdata\\local\\programs\\python\\python312\\lib\\site-packages (from gitdb<5,>=4.0.1->gitpython!=3.1.19,<4,>=3.0.7->streamlit) (5.0.2)\n",
      "Requirement already satisfied: MarkupSafe>=2.0 in c:\\users\\ipf-2025\\appdata\\local\\programs\\python\\python312\\lib\\site-packages (from jinja2->altair<6,>=4.0->streamlit) (3.0.2)\n",
      "Requirement already satisfied: attrs>=22.2.0 in c:\\users\\ipf-2025\\appdata\\local\\programs\\python\\python312\\lib\\site-packages (from jsonschema>=3.0->altair<6,>=4.0->streamlit) (25.3.0)\n",
      "Requirement already satisfied: jsonschema-specifications>=2023.03.6 in c:\\users\\ipf-2025\\appdata\\local\\programs\\python\\python312\\lib\\site-packages (from jsonschema>=3.0->altair<6,>=4.0->streamlit) (2024.10.1)\n",
      "Requirement already satisfied: referencing>=0.28.4 in c:\\users\\ipf-2025\\appdata\\local\\programs\\python\\python312\\lib\\site-packages (from jsonschema>=3.0->altair<6,>=4.0->streamlit) (0.36.2)\n",
      "Requirement already satisfied: rpds-py>=0.7.1 in c:\\users\\ipf-2025\\appdata\\local\\programs\\python\\python312\\lib\\site-packages (from jsonschema>=3.0->altair<6,>=4.0->streamlit) (0.24.0)\n",
      "Note: you may need to restart the kernel to use updated packages.\n"
     ]
    },
    {
     "name": "stderr",
     "output_type": "stream",
     "text": [
      "\n",
      "[notice] A new release of pip is available: 24.3.1 -> 25.0.1\n",
      "[notice] To update, run: python.exe -m pip install --upgrade pip\n"
     ]
    }
   ],
   "source": [
    "pip install pandas matplotlib streamlit"
   ]
  },
  {
   "cell_type": "code",
   "execution_count": 6,
   "id": "ecc4d09d",
   "metadata": {},
   "outputs": [
    {
     "data": {
      "text/html": [
       "<div>\n",
       "<style scoped>\n",
       "    .dataframe tbody tr th:only-of-type {\n",
       "        vertical-align: middle;\n",
       "    }\n",
       "\n",
       "    .dataframe tbody tr th {\n",
       "        vertical-align: top;\n",
       "    }\n",
       "\n",
       "    .dataframe thead th {\n",
       "        text-align: right;\n",
       "    }\n",
       "</style>\n",
       "<table border=\"1\" class=\"dataframe\">\n",
       "  <thead>\n",
       "    <tr style=\"text-align: right;\">\n",
       "      <th></th>\n",
       "      <th>id_usuario</th>\n",
       "      <th>genero_usuario</th>\n",
       "      <th>edad_usuario</th>\n",
       "      <th>fecha_alta</th>\n",
       "      <th>hora_alta</th>\n",
       "    </tr>\n",
       "  </thead>\n",
       "  <tbody>\n",
       "    <tr>\n",
       "      <th>0</th>\n",
       "      <td>1094487</td>\n",
       "      <td>OTHER</td>\n",
       "      <td>35</td>\n",
       "      <td>2024-01-18</td>\n",
       "      <td>09:21:02</td>\n",
       "    </tr>\n",
       "    <tr>\n",
       "      <th>1</th>\n",
       "      <td>1097128</td>\n",
       "      <td>FEMALE</td>\n",
       "      <td>21</td>\n",
       "      <td>2024-01-21</td>\n",
       "      <td>23:02:26</td>\n",
       "    </tr>\n",
       "    <tr>\n",
       "      <th>2</th>\n",
       "      <td>1102901</td>\n",
       "      <td>OTHER</td>\n",
       "      <td>19</td>\n",
       "      <td>2024-01-29</td>\n",
       "      <td>19:33:32</td>\n",
       "    </tr>\n",
       "    <tr>\n",
       "      <th>3</th>\n",
       "      <td>1096100</td>\n",
       "      <td>FEMALE</td>\n",
       "      <td>29</td>\n",
       "      <td>2024-01-20</td>\n",
       "      <td>18:57:05</td>\n",
       "    </tr>\n",
       "    <tr>\n",
       "      <th>4</th>\n",
       "      <td>1103049</td>\n",
       "      <td>MALE</td>\n",
       "      <td>21</td>\n",
       "      <td>2024-01-30</td>\n",
       "      <td>00:49:33</td>\n",
       "    </tr>\n",
       "  </tbody>\n",
       "</table>\n",
       "</div>"
      ],
      "text/plain": [
       "   id_usuario genero_usuario  edad_usuario  fecha_alta hora_alta\n",
       "0     1094487          OTHER            35  2024-01-18  09:21:02\n",
       "1     1097128         FEMALE            21  2024-01-21  23:02:26\n",
       "2     1102901          OTHER            19  2024-01-29  19:33:32\n",
       "3     1096100         FEMALE            29  2024-01-20  18:57:05\n",
       "4     1103049           MALE            21  2024-01-30  00:49:33"
      ]
     },
     "execution_count": 6,
     "metadata": {},
     "output_type": "execute_result"
    }
   ],
   "source": [
    "import pandas as pd\n",
    "\n",
    "df = pd.read_csv(\"usuarios_ecobici.csv\")\n",
    "df.head()"
   ]
  },
  {
   "cell_type": "code",
   "execution_count": 20,
   "id": "f182ad06",
   "metadata": {},
   "outputs": [
    {
     "name": "stdout",
     "output_type": "stream",
     "text": [
      "(197077, 5)\n",
      "Index(['id_usuario', 'genero_usuario', 'edad_usuario', 'fecha_alta',\n",
      "       'hora_alta'],\n",
      "      dtype='object')\n",
      "id_usuario         int64\n",
      "genero_usuario    object\n",
      "edad_usuario       int64\n",
      "fecha_alta        object\n",
      "hora_alta         object\n",
      "dtype: object\n"
     ]
    }
   ],
   "source": [
    "print(df.shape)\n",
    "print(df.columns)\n",
    "print(df.dtypes)"
   ]
  },
  {
   "cell_type": "code",
   "execution_count": 17,
   "id": "735cdbff",
   "metadata": {},
   "outputs": [
    {
     "name": "stdout",
     "output_type": "stream",
     "text": [
      "<class 'pandas.core.frame.DataFrame'>\n",
      "RangeIndex: 197077 entries, 0 to 197076\n",
      "Data columns (total 5 columns):\n",
      " #   Column          Non-Null Count   Dtype \n",
      "---  ------          --------------   ----- \n",
      " 0   id_usuario      197077 non-null  int64 \n",
      " 1   genero_usuario  197077 non-null  object\n",
      " 2   edad_usuario    197077 non-null  int64 \n",
      " 3   fecha_alta      197077 non-null  object\n",
      " 4   hora_alta       197077 non-null  object\n",
      "dtypes: int64(2), object(3)\n",
      "memory usage: 7.5+ MB\n",
      "None\n"
     ]
    }
   ],
   "source": [
    "print(df.info())"
   ]
  },
  {
   "cell_type": "code",
   "execution_count": 16,
   "id": "68025798",
   "metadata": {},
   "outputs": [
    {
     "data": {
      "text/plain": [
       "id_usuario        0\n",
       "genero_usuario    0\n",
       "edad_usuario      0\n",
       "fecha_alta        0\n",
       "hora_alta         0\n",
       "dtype: int64"
      ]
     },
     "execution_count": 16,
     "metadata": {},
     "output_type": "execute_result"
    }
   ],
   "source": [
    "df.isnull().sum()"
   ]
  },
  {
   "cell_type": "markdown",
   "id": "d2d63729",
   "metadata": {},
   "source": [
    "# Ver cuantos duplicados hay"
   ]
  },
  {
   "cell_type": "code",
   "execution_count": 21,
   "id": "b6eec701",
   "metadata": {},
   "outputs": [
    {
     "name": "stdout",
     "output_type": "stream",
     "text": [
      "0\n"
     ]
    }
   ],
   "source": [
    "\n",
    "print(df.duplicated().sum())"
   ]
  },
  {
   "cell_type": "markdown",
   "id": "49e62362",
   "metadata": {},
   "source": [
    "# Corregir tipos de datos\n",
    "Actualmente , fecha_alta y hora_alta estan como object, pero podrian convertirse a tipo de hora y fecha"
   ]
  },
  {
   "cell_type": "code",
   "execution_count": 22,
   "id": "7527635d",
   "metadata": {},
   "outputs": [],
   "source": [
    "df['fecha_alta'] = pd.to_datetime(df['fecha_alta'], errors='coerce')\n",
    "df['hora_alta'] = pd.to_datetime(df['hora_alta'], format='%H:%M:%S', errors='coerce').dt.time"
   ]
  },
  {
   "cell_type": "code",
   "execution_count": 25,
   "id": "9b0b9122",
   "metadata": {},
   "outputs": [
    {
     "name": "stdout",
     "output_type": "stream",
     "text": [
      "id_usuario                 int64\n",
      "genero_usuario            object\n",
      "edad_usuario               int64\n",
      "fecha_alta        datetime64[ns]\n",
      "hora_alta                 object\n",
      "dtype: object\n"
     ]
    }
   ],
   "source": [
    "print(df.dtypes)"
   ]
  },
  {
   "cell_type": "markdown",
   "id": "d2311226",
   "metadata": {},
   "source": [
    "# Limpiar valores inconsistentes (por ejemplo, en genero_usuario)"
   ]
  },
  {
   "cell_type": "code",
   "execution_count": null,
   "id": "26ee71ac",
   "metadata": {},
   "outputs": [
    {
     "name": "stdout",
     "output_type": "stream",
     "text": [
      "['OTHER' 'FEMALE' 'MALE']\n"
     ]
    }
   ],
   "source": [
    "# Ver valores únicos en genero_usuario\n",
    "print(df['genero_usuario'].unique())"
   ]
  },
  {
   "cell_type": "markdown",
   "id": "5c8aadc2",
   "metadata": {},
   "source": [
    "# Proceder a mostrar los valores de una forma mas comun:"
   ]
  },
  {
   "cell_type": "code",
   "execution_count": 29,
   "id": "fb2012ea",
   "metadata": {},
   "outputs": [],
   "source": [
    "# Limpiar y normalizar\n",
    "df['genero_usuario'] = df['genero_usuario'].str.strip().str.lower()\n",
    "\n",
    "# Reemplazo por etiquetas estándar en español\n",
    "df['genero_usuario'] = df['genero_usuario'].replace({\n",
    "    'male': 'masculino',\n",
    "    'female': 'femenino',\n",
    "    'other': 'otro'\n",
    "})"
   ]
  },
  {
   "cell_type": "code",
   "execution_count": 30,
   "id": "09bac20c",
   "metadata": {},
   "outputs": [
    {
     "data": {
      "text/html": [
       "<div>\n",
       "<style scoped>\n",
       "    .dataframe tbody tr th:only-of-type {\n",
       "        vertical-align: middle;\n",
       "    }\n",
       "\n",
       "    .dataframe tbody tr th {\n",
       "        vertical-align: top;\n",
       "    }\n",
       "\n",
       "    .dataframe thead th {\n",
       "        text-align: right;\n",
       "    }\n",
       "</style>\n",
       "<table border=\"1\" class=\"dataframe\">\n",
       "  <thead>\n",
       "    <tr style=\"text-align: right;\">\n",
       "      <th></th>\n",
       "      <th>id_usuario</th>\n",
       "      <th>genero_usuario</th>\n",
       "      <th>edad_usuario</th>\n",
       "      <th>fecha_alta</th>\n",
       "      <th>hora_alta</th>\n",
       "    </tr>\n",
       "  </thead>\n",
       "  <tbody>\n",
       "    <tr>\n",
       "      <th>0</th>\n",
       "      <td>1094487</td>\n",
       "      <td>otro</td>\n",
       "      <td>35</td>\n",
       "      <td>2024-01-18</td>\n",
       "      <td>09:21:02</td>\n",
       "    </tr>\n",
       "    <tr>\n",
       "      <th>1</th>\n",
       "      <td>1097128</td>\n",
       "      <td>femenino</td>\n",
       "      <td>21</td>\n",
       "      <td>2024-01-21</td>\n",
       "      <td>23:02:26</td>\n",
       "    </tr>\n",
       "    <tr>\n",
       "      <th>2</th>\n",
       "      <td>1102901</td>\n",
       "      <td>otro</td>\n",
       "      <td>19</td>\n",
       "      <td>2024-01-29</td>\n",
       "      <td>19:33:32</td>\n",
       "    </tr>\n",
       "    <tr>\n",
       "      <th>3</th>\n",
       "      <td>1096100</td>\n",
       "      <td>femenino</td>\n",
       "      <td>29</td>\n",
       "      <td>2024-01-20</td>\n",
       "      <td>18:57:05</td>\n",
       "    </tr>\n",
       "    <tr>\n",
       "      <th>4</th>\n",
       "      <td>1103049</td>\n",
       "      <td>masculino</td>\n",
       "      <td>21</td>\n",
       "      <td>2024-01-30</td>\n",
       "      <td>00:49:33</td>\n",
       "    </tr>\n",
       "  </tbody>\n",
       "</table>\n",
       "</div>"
      ],
      "text/plain": [
       "   id_usuario genero_usuario  edad_usuario fecha_alta hora_alta\n",
       "0     1094487           otro            35 2024-01-18  09:21:02\n",
       "1     1097128       femenino            21 2024-01-21  23:02:26\n",
       "2     1102901           otro            19 2024-01-29  19:33:32\n",
       "3     1096100       femenino            29 2024-01-20  18:57:05\n",
       "4     1103049      masculino            21 2024-01-30  00:49:33"
      ]
     },
     "execution_count": 30,
     "metadata": {},
     "output_type": "execute_result"
    }
   ],
   "source": [
    "df.head()"
   ]
  },
  {
   "cell_type": "markdown",
   "id": "8ecd1194",
   "metadata": {},
   "source": [
    "# Revisar valores extraños en edad"
   ]
  },
  {
   "cell_type": "code",
   "execution_count": 49,
   "id": "08fb1fc1",
   "metadata": {},
   "outputs": [
    {
     "name": "stdout",
     "output_type": "stream",
     "text": [
      "count    197007\n",
      "mean         31\n",
      "std          12\n",
      "min           4\n",
      "25%          21\n",
      "50%          27\n",
      "75%          37\n",
      "max          98\n",
      "Name: edad_usuario, dtype: int64\n"
     ]
    }
   ],
   "source": [
    "print(df['edad_usuario'].describe().round().astype(int))"
   ]
  },
  {
   "cell_type": "markdown",
   "id": "e432cc4e",
   "metadata": {},
   "source": [
    "# Coloco nombres mas comunes a las columnas y evitando la redundancia"
   ]
  },
  {
   "cell_type": "code",
   "execution_count": 51,
   "id": "461af7a3",
   "metadata": {},
   "outputs": [],
   "source": [
    "df = df.rename(columns={\n",
    "    'id_usuario': 'id',\n",
    "    'genero_usuario': 'genero',\n",
    "    'edad_usuario': 'edad',\n",
    "    'fecha_alta': 'fecha',\n",
    "    'hora_alta': 'hora'\n",
    "})"
   ]
  },
  {
   "cell_type": "code",
   "execution_count": 52,
   "id": "37bda185",
   "metadata": {},
   "outputs": [
    {
     "data": {
      "text/html": [
       "<div>\n",
       "<style scoped>\n",
       "    .dataframe tbody tr th:only-of-type {\n",
       "        vertical-align: middle;\n",
       "    }\n",
       "\n",
       "    .dataframe tbody tr th {\n",
       "        vertical-align: top;\n",
       "    }\n",
       "\n",
       "    .dataframe thead th {\n",
       "        text-align: right;\n",
       "    }\n",
       "</style>\n",
       "<table border=\"1\" class=\"dataframe\">\n",
       "  <thead>\n",
       "    <tr style=\"text-align: right;\">\n",
       "      <th></th>\n",
       "      <th>id</th>\n",
       "      <th>genero</th>\n",
       "      <th>edad</th>\n",
       "      <th>fecha</th>\n",
       "      <th>hora</th>\n",
       "    </tr>\n",
       "  </thead>\n",
       "  <tbody>\n",
       "    <tr>\n",
       "      <th>0</th>\n",
       "      <td>1094487</td>\n",
       "      <td>otro</td>\n",
       "      <td>35</td>\n",
       "      <td>2024-01-18</td>\n",
       "      <td>09:21:02</td>\n",
       "    </tr>\n",
       "    <tr>\n",
       "      <th>1</th>\n",
       "      <td>1097128</td>\n",
       "      <td>femenino</td>\n",
       "      <td>21</td>\n",
       "      <td>2024-01-21</td>\n",
       "      <td>23:02:26</td>\n",
       "    </tr>\n",
       "    <tr>\n",
       "      <th>2</th>\n",
       "      <td>1102901</td>\n",
       "      <td>otro</td>\n",
       "      <td>19</td>\n",
       "      <td>2024-01-29</td>\n",
       "      <td>19:33:32</td>\n",
       "    </tr>\n",
       "    <tr>\n",
       "      <th>3</th>\n",
       "      <td>1096100</td>\n",
       "      <td>femenino</td>\n",
       "      <td>29</td>\n",
       "      <td>2024-01-20</td>\n",
       "      <td>18:57:05</td>\n",
       "    </tr>\n",
       "    <tr>\n",
       "      <th>4</th>\n",
       "      <td>1103049</td>\n",
       "      <td>masculino</td>\n",
       "      <td>21</td>\n",
       "      <td>2024-01-30</td>\n",
       "      <td>00:49:33</td>\n",
       "    </tr>\n",
       "  </tbody>\n",
       "</table>\n",
       "</div>"
      ],
      "text/plain": [
       "        id     genero  edad      fecha      hora\n",
       "0  1094487       otro    35 2024-01-18  09:21:02\n",
       "1  1097128   femenino    21 2024-01-21  23:02:26\n",
       "2  1102901       otro    19 2024-01-29  19:33:32\n",
       "3  1096100   femenino    29 2024-01-20  18:57:05\n",
       "4  1103049  masculino    21 2024-01-30  00:49:33"
      ]
     },
     "execution_count": 52,
     "metadata": {},
     "output_type": "execute_result"
    }
   ],
   "source": [
    "df.head()"
   ]
  },
  {
   "cell_type": "markdown",
   "id": "70568bbc",
   "metadata": {},
   "source": [
    "# Creamos un nuevo csv con nuestros df limpio"
   ]
  },
  {
   "cell_type": "code",
   "execution_count": 53,
   "id": "7048fb05",
   "metadata": {},
   "outputs": [],
   "source": [
    "df.to_csv(\"usuarios_ecobici_limpio.csv\", index=False)"
   ]
  },
  {
   "cell_type": "code",
   "execution_count": 54,
   "id": "2ca5f142",
   "metadata": {},
   "outputs": [
    {
     "data": {
      "text/html": [
       "<div>\n",
       "<style scoped>\n",
       "    .dataframe tbody tr th:only-of-type {\n",
       "        vertical-align: middle;\n",
       "    }\n",
       "\n",
       "    .dataframe tbody tr th {\n",
       "        vertical-align: top;\n",
       "    }\n",
       "\n",
       "    .dataframe thead th {\n",
       "        text-align: right;\n",
       "    }\n",
       "</style>\n",
       "<table border=\"1\" class=\"dataframe\">\n",
       "  <thead>\n",
       "    <tr style=\"text-align: right;\">\n",
       "      <th></th>\n",
       "      <th>id</th>\n",
       "      <th>genero</th>\n",
       "      <th>edad</th>\n",
       "      <th>fecha</th>\n",
       "      <th>hora</th>\n",
       "    </tr>\n",
       "  </thead>\n",
       "  <tbody>\n",
       "    <tr>\n",
       "      <th>0</th>\n",
       "      <td>1094487</td>\n",
       "      <td>otro</td>\n",
       "      <td>35</td>\n",
       "      <td>2024-01-18</td>\n",
       "      <td>09:21:02</td>\n",
       "    </tr>\n",
       "    <tr>\n",
       "      <th>1</th>\n",
       "      <td>1097128</td>\n",
       "      <td>femenino</td>\n",
       "      <td>21</td>\n",
       "      <td>2024-01-21</td>\n",
       "      <td>23:02:26</td>\n",
       "    </tr>\n",
       "    <tr>\n",
       "      <th>2</th>\n",
       "      <td>1102901</td>\n",
       "      <td>otro</td>\n",
       "      <td>19</td>\n",
       "      <td>2024-01-29</td>\n",
       "      <td>19:33:32</td>\n",
       "    </tr>\n",
       "    <tr>\n",
       "      <th>3</th>\n",
       "      <td>1096100</td>\n",
       "      <td>femenino</td>\n",
       "      <td>29</td>\n",
       "      <td>2024-01-20</td>\n",
       "      <td>18:57:05</td>\n",
       "    </tr>\n",
       "    <tr>\n",
       "      <th>4</th>\n",
       "      <td>1103049</td>\n",
       "      <td>masculino</td>\n",
       "      <td>21</td>\n",
       "      <td>2024-01-30</td>\n",
       "      <td>00:49:33</td>\n",
       "    </tr>\n",
       "  </tbody>\n",
       "</table>\n",
       "</div>"
      ],
      "text/plain": [
       "        id     genero  edad      fecha      hora\n",
       "0  1094487       otro    35 2024-01-18  09:21:02\n",
       "1  1097128   femenino    21 2024-01-21  23:02:26\n",
       "2  1102901       otro    19 2024-01-29  19:33:32\n",
       "3  1096100   femenino    29 2024-01-20  18:57:05\n",
       "4  1103049  masculino    21 2024-01-30  00:49:33"
      ]
     },
     "execution_count": 54,
     "metadata": {},
     "output_type": "execute_result"
    }
   ],
   "source": [
    "df.head()"
   ]
  }
 ],
 "metadata": {
  "kernelspec": {
   "display_name": "Python 3",
   "language": "python",
   "name": "python3"
  },
  "language_info": {
   "codemirror_mode": {
    "name": "ipython",
    "version": 3
   },
   "file_extension": ".py",
   "mimetype": "text/x-python",
   "name": "python",
   "nbconvert_exporter": "python",
   "pygments_lexer": "ipython3",
   "version": "3.12.9"
  }
 },
 "nbformat": 4,
 "nbformat_minor": 5
}
